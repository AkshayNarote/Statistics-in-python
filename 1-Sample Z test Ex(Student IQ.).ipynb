{
 "cells": [
  {
   "cell_type": "code",
   "execution_count": 7,
   "id": "e6ce6de8",
   "metadata": {},
   "outputs": [
    {
     "name": "stdout",
     "output_type": "stream",
     "text": [
      "4.714045207910317\n",
      "1.2142337364462463e-06\n",
      "Reject H0(null hypothesis)...\n"
     ]
    }
   ],
   "source": [
    "import scipy.stats as stats\n",
    "import numpy as np\n",
    "\n",
    "n = 50\n",
    "smean = 110\n",
    "pmean = 100\n",
    "std = 15\n",
    "alpha = 0.05\n",
    "\n",
    "# H0 : pmean >= 100\n",
    "# H1 : pmean < 100\n",
    "\n",
    "z = (smean-pmean)/(std/np.sqrt(n))\n",
    "print(z)\n",
    "\n",
    "pvalue = 1-stats.norm.cdf(z)\n",
    "print(pvalue)\n",
    "\n",
    "if pvalue > alpha:\n",
    "    print(\"Accept H0(null Hypothesis)...\")\n",
    "else:\n",
    "    print(\"Reject H0(null hypothesis)...\")"
   ]
  },
  {
   "cell_type": "code",
   "execution_count": null,
   "id": "2ab4b9aa",
   "metadata": {},
   "outputs": [],
   "source": []
  }
 ],
 "metadata": {
  "kernelspec": {
   "display_name": "Python 3 (ipykernel)",
   "language": "python",
   "name": "python3"
  },
  "language_info": {
   "codemirror_mode": {
    "name": "ipython",
    "version": 3
   },
   "file_extension": ".py",
   "mimetype": "text/x-python",
   "name": "python",
   "nbconvert_exporter": "python",
   "pygments_lexer": "ipython3",
   "version": "3.11.5"
  }
 },
 "nbformat": 4,
 "nbformat_minor": 5
}
